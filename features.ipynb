{
 "cells": [
  {
   "cell_type": "code",
   "execution_count": 1,
   "source": [
    "import pandas as pd\n",
    "import numpy as np\n"
   ],
   "outputs": [],
   "metadata": {}
  },
  {
   "cell_type": "code",
   "execution_count": 2,
   "source": [
    "df_matches = pd.read_pickle('files/match_historical_data.pkl')"
   ],
   "outputs": [],
   "metadata": {}
  },
  {
   "cell_type": "code",
   "execution_count": 29,
   "source": [
    "#df_matches.sort_values('time', ascending=False, inplace=True)\n",
    "\n",
    "matches = df_matches[(df_matches['team_name']=='Atletico-Madrid')]\n",
    "matches = matches[matches['time']<'2020-01-01'].head(10)\n",
    "                        #   &(df_matches['time']<df_matches)]\n",
    "                           #.head(10)"
   ],
   "outputs": [],
   "metadata": {}
  },
  {
   "cell_type": "code",
   "execution_count": 30,
   "source": [
    "matches['new_result'] = np.where(matches['result']=='W', 'win'\n",
    "         , np.where(matches['result']=='L', 'loss', np.where(matches['result']=='D', 'draw', 'None')))"
   ],
   "outputs": [],
   "metadata": {}
  },
  {
   "cell_type": "code",
   "execution_count": 31,
   "source": [
    "win_loss = matches.groupby(['new_result','venue']).count().T.iloc[[0]]\n"
   ],
   "outputs": [],
   "metadata": {}
  },
  {
   "cell_type": "code",
   "execution_count": 32,
   "source": [],
   "outputs": [],
   "metadata": {}
  },
  {
   "cell_type": "code",
   "execution_count": 33,
   "source": [
    "win_loss.columns = [str(i[0])+'_'+str(i[1]) for i in win_loss.columns]\n",
    "win_loss.columns = win_loss.columns.str.lower()\n",
    "win_loss.reset_index(drop=True, inplace=True)\n",
    "\n",
    "### Previous matches win, loss total\n",
    "win_loss_all = matches.groupby(['new_result']).count().T.iloc[[0]]\n",
    "win_loss_all.reset_index(drop=True, inplace=True)\n",
    "win_loss = pd.concat([win_loss_all,win_loss], axis=1)"
   ],
   "outputs": [],
   "metadata": {}
  },
  {
   "cell_type": "code",
   "execution_count": 17,
   "source": [
    "win_loss = matches.groupby(['new_result','venue']).count().T.iloc[[0]]\n",
    "win_loss.columns = [str(i[0])+'_'+str(i[1]) for i in win_loss.columns]\n",
    "win_loss.columns = win_loss.columns.str.lower()\n",
    "win_loss.reset_index(drop=True, inplace=True)"
   ],
   "outputs": [],
   "metadata": {}
  },
  {
   "cell_type": "code",
   "execution_count": 18,
   "source": [
    "win_loss"
   ],
   "outputs": [
    {
     "output_type": "execute_result",
     "data": {
      "text/plain": [
       "   draw_away  draw_home  loss_away  loss_home  loss_neutral  win_away  \\\n",
       "0        117         85        140         68             1       161   \n",
       "\n",
       "   win_home  win_neutral  \n",
       "0       264            6  "
      ],
      "text/html": [
       "<div>\n",
       "<style scoped>\n",
       "    .dataframe tbody tr th:only-of-type {\n",
       "        vertical-align: middle;\n",
       "    }\n",
       "\n",
       "    .dataframe tbody tr th {\n",
       "        vertical-align: top;\n",
       "    }\n",
       "\n",
       "    .dataframe thead th {\n",
       "        text-align: right;\n",
       "    }\n",
       "</style>\n",
       "<table border=\"1\" class=\"dataframe\">\n",
       "  <thead>\n",
       "    <tr style=\"text-align: right;\">\n",
       "      <th></th>\n",
       "      <th>draw_away</th>\n",
       "      <th>draw_home</th>\n",
       "      <th>loss_away</th>\n",
       "      <th>loss_home</th>\n",
       "      <th>loss_neutral</th>\n",
       "      <th>win_away</th>\n",
       "      <th>win_home</th>\n",
       "      <th>win_neutral</th>\n",
       "    </tr>\n",
       "  </thead>\n",
       "  <tbody>\n",
       "    <tr>\n",
       "      <th>0</th>\n",
       "      <td>117</td>\n",
       "      <td>85</td>\n",
       "      <td>140</td>\n",
       "      <td>68</td>\n",
       "      <td>1</td>\n",
       "      <td>161</td>\n",
       "      <td>264</td>\n",
       "      <td>6</td>\n",
       "    </tr>\n",
       "  </tbody>\n",
       "</table>\n",
       "</div>"
      ]
     },
     "metadata": {},
     "execution_count": 18
    }
   ],
   "metadata": {}
  },
  {
   "cell_type": "code",
   "execution_count": 49,
   "source": [
    "def match_win_loss(name:str, date_match:str, n_previous_matches:int, la_liga_df):\n",
    "     \n",
    "     \"\"\"Creates the win-loss-draw total and percentage of n previous matches\n",
    "\n",
    "     Args:\n",
    "         name (str): [Name of the team to calculate]\n",
    "         date_match (str): [Date of the calculation (match to be play)]\n",
    "         n_previous_matches (int): [Number of previous matches to take into account]\n",
    "         la_liga_df (DataFrame): [DataFrame of raw matches information from fbref]\n",
    "     \"\"\"\n",
    "\n",
    "     results = pd.DataFrame(columns=['number_of_draw', 'number_of_loss', 'number_of_win'\n",
    "                    , 'number_of_draw_away', 'number_of_draw_home', 'number_of_loss_away'\n",
    "                    , 'number_of_loss_home', 'number_of_loss_neutral', 'number_of_win_away'\n",
    "                    , 'number_of_win_home', 'number_of_win_neutral'], index=[0])\n",
    "    \n",
    "     la_liga_df.sort_values('time', ascending=False, inplace=True)\n",
    "\n",
    "     matches = la_liga_df[(la_liga_df['team_name']==name)\n",
    "                           &(la_liga_df['time']<date_match)].head(n_previous_matches)\n",
    "    \n",
    "     matches['new_result'] = np.where(matches['result']=='W', 'number_of_win'\n",
    "         , np.where(matches['result']=='L', 'number_of_loss', np.where(matches['result']=='D', 'number_of_draw', 'None')))\n",
    "\n",
    "    ### Previous matches win, loss and draw by venue (home, away)\n",
    "     win_loss = matches.groupby(['new_result','venue']).count().T.iloc[[0]]\n",
    "     win_loss.columns = [str(i[0])+'_'+str(i[1]) for i in win_loss.columns]\n",
    "     win_loss.columns = win_loss.columns.str.lower()\n",
    "     win_loss.reset_index(drop=True, inplace=True)\n",
    "\n",
    "     ### Previous matches win, loss total\n",
    "     win_loss_all = matches.groupby(['new_result']).count().T.iloc[[0]]\n",
    "     win_loss_all.reset_index(drop=True, inplace=True)\n",
    "     win_loss = pd.concat([win_loss_all,win_loss], axis=1)\n",
    "     results.fillna(win_loss, inplace=True)\n",
    "     results.fillna(0, inplace=True)\n",
    "\n",
    "     ### percentages\n",
    "     results['percentage_win'] = results['number_of_win']/n_previous_matches\n",
    "     results['percentage_loss'] = results['number_of_loss']/n_previous_matches\n",
    "     results['percentage_draw'] = results['number_of_draw']/n_previous_matches\n",
    "\n",
    "     number_of_home_games = results['number_of_win_home']+results['number_of_loss_home']+results['number_of_draw_home']\n",
    "     results['percentage_home_win'] = results['number_of_win_home']/number_of_home_games\n",
    "     results['percentage_home_loss'] = results['number_of_loss_home']/number_of_home_games\n",
    "     results['percentage_home_draw'] = results['number_of_draw_home']/number_of_home_games\n",
    "\n",
    "     number_of_away_games = results['number_of_win_away']+results['number_of_loss_away']+results['number_of_draw_away']\n",
    "     results['percentage_away_win'] = results['number_of_win_away']/number_of_away_games\n",
    "     results['percentage_away_loss'] = results['number_of_loss_away']/number_of_away_games\n",
    "     results['percentage_away_draw'] = results['number_of_draw_away']/number_of_away_games\n",
    "     \n",
    "     results['team_name'] = name\n",
    "     results['date'] = date_match\n",
    "     results.set_index(['team_name', 'date'], inplace=True)\n",
    "\n",
    "     return results"
   ],
   "outputs": [],
   "metadata": {}
  },
  {
   "cell_type": "code",
   "execution_count": 50,
   "source": [
    "res = match_win_loss('Atletico-Madrid', '2020-12-01', 20, df_matches)\n"
   ],
   "outputs": [],
   "metadata": {}
  },
  {
   "cell_type": "code",
   "execution_count": null,
   "source": [
    "def team_posicions_simulation():\n",
    "    "
   ],
   "outputs": [],
   "metadata": {}
  },
  {
   "cell_type": "code",
   "execution_count": null,
   "source": [],
   "outputs": [],
   "metadata": {}
  },
  {
   "cell_type": "code",
   "execution_count": null,
   "source": [],
   "outputs": [],
   "metadata": {}
  },
  {
   "cell_type": "code",
   "execution_count": null,
   "source": [],
   "outputs": [],
   "metadata": {}
  },
  {
   "cell_type": "code",
   "execution_count": null,
   "source": [],
   "outputs": [],
   "metadata": {}
  }
 ],
 "metadata": {
  "orig_nbformat": 4,
  "language_info": {
   "name": "python",
   "version": "3.9.7",
   "mimetype": "text/x-python",
   "codemirror_mode": {
    "name": "ipython",
    "version": 3
   },
   "pygments_lexer": "ipython3",
   "nbconvert_exporter": "python",
   "file_extension": ".py"
  },
  "kernelspec": {
   "name": "python3",
   "display_name": "Python 3.9.7 64-bit ('bet_env': conda)"
  },
  "interpreter": {
   "hash": "635c2caf21637321aab4c9be68b9428e27042f3be560c083f9e5e3ba81fc873f"
  }
 },
 "nbformat": 4,
 "nbformat_minor": 2
}