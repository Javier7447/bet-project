{
 "cells": [
  {
   "cell_type": "code",
   "execution_count": 1,
   "metadata": {},
   "outputs": [],
   "source": [
    "import requests\n",
    "from bs4 import BeautifulSoup\n",
    "import pandas as pd"
   ]
  },
  {
   "cell_type": "code",
   "execution_count": 2,
   "metadata": {},
   "outputs": [
    {
     "data": {
      "text/plain": [
       "{'/athletic-bilbao/spielplan/verein/621/saison_id/2021',\n",
       " '/atletico-madrid/spielplan/verein/13/saison_id/2021',\n",
       " '/ca-osasuna/spielplan/verein/331/saison_id/2021',\n",
       " '/celta-vigo/spielplan/verein/940/saison_id/2021',\n",
       " '/deportivo-alaves/spielplan/verein/1108/saison_id/2021',\n",
       " '/espanyol-barcelona/spielplan/verein/714/saison_id/2021',\n",
       " '/fc-barcelona/spielplan/verein/131/saison_id/2021',\n",
       " '/fc-cadiz/spielplan/verein/2687/saison_id/2021',\n",
       " '/fc-elche/spielplan/verein/1531/saison_id/2021',\n",
       " '/fc-getafe/spielplan/verein/3709/saison_id/2021',\n",
       " '/fc-granada/spielplan/verein/16795/saison_id/2021',\n",
       " '/fc-sevilla/spielplan/verein/368/saison_id/2021',\n",
       " '/fc-valencia/spielplan/verein/1049/saison_id/2021',\n",
       " '/fc-villarreal/spielplan/verein/1050/saison_id/2021',\n",
       " '/rayo-vallecano/spielplan/verein/367/saison_id/2021',\n",
       " '/rcd-mallorca/spielplan/verein/237/saison_id/2021',\n",
       " '/real-betis-sevilla/spielplan/verein/150/saison_id/2021',\n",
       " '/real-madrid/spielplan/verein/418/saison_id/2021',\n",
       " '/real-sociedad-san-sebastian/spielplan/verein/681/saison_id/2021',\n",
       " '/ud-levante/spielplan/verein/3368/saison_id/2021'}"
      ]
     },
     "execution_count": 2,
     "metadata": {},
     "output_type": "execute_result"
    }
   ],
   "source": [
    "#URL = \"https://www.transfermarkt.com/laliga/startseite/wettbewerb/ES1/plus/?saison_id=2020\"\n",
    "URL = \"https://www.transfermarkt.com/laliga/startseite/wettbewerb/ES1\"\n",
    "headers = {\"User-Agent\":\"Mozilla/5.0\"}\n",
    "page = requests.get(URL, headers= headers)\n",
    "soup = BeautifulSoup(page.content, \"html.parser\")\n",
    "\n",
    "new_table = pd.DataFrame(index=[0]) \n",
    "df= pd.DataFrame(index=[0]) \n",
    "\n",
    "rows = 0\n",
    "soup = soup.findAll(\"table\")[20]\n",
    "set([search.get(\"href\") for search in soup.findAll(\"a\",attrs={'class': \"vereinprofil_tooltip\"})])\n",
    "    \n"
   ]
  },
  {
   "cell_type": "code",
   "execution_count": 30,
   "metadata": {},
   "outputs": [
    {
     "ename": "IndexError",
     "evalue": "list index out of range",
     "output_type": "error",
     "traceback": [
      "\u001b[1;31m---------------------------------------------------------------------------\u001b[0m",
      "\u001b[1;31mIndexError\u001b[0m                                Traceback (most recent call last)",
      "\u001b[1;32m~\\AppData\\Local\\Temp/ipykernel_18452/467749324.py\u001b[0m in \u001b[0;36m<module>\u001b[1;34m\u001b[0m\n\u001b[0;32m      8\u001b[0m \u001b[1;33m\u001b[0m\u001b[0m\n\u001b[0;32m      9\u001b[0m \u001b[0mrows\u001b[0m \u001b[1;33m=\u001b[0m \u001b[1;36m0\u001b[0m\u001b[1;33m\u001b[0m\u001b[1;33m\u001b[0m\u001b[0m\n\u001b[1;32m---> 10\u001b[1;33m \u001b[0msoup\u001b[0m \u001b[1;33m=\u001b[0m \u001b[0msoup\u001b[0m\u001b[1;33m.\u001b[0m\u001b[0mfindAll\u001b[0m\u001b[1;33m(\u001b[0m\u001b[1;34m\"table\"\u001b[0m\u001b[1;33m)\u001b[0m\u001b[1;33m[\u001b[0m\u001b[1;36m20\u001b[0m\u001b[1;33m]\u001b[0m\u001b[1;33m\u001b[0m\u001b[1;33m\u001b[0m\u001b[0m\n\u001b[0m\u001b[0;32m     11\u001b[0m \u001b[0mset\u001b[0m\u001b[1;33m(\u001b[0m\u001b[1;33m[\u001b[0m\u001b[0msearch\u001b[0m\u001b[1;33m.\u001b[0m\u001b[0mget\u001b[0m\u001b[1;33m(\u001b[0m\u001b[1;34m\"href\"\u001b[0m\u001b[1;33m)\u001b[0m \u001b[1;32mfor\u001b[0m \u001b[0msearch\u001b[0m \u001b[1;32min\u001b[0m \u001b[0msoup\u001b[0m\u001b[1;33m.\u001b[0m\u001b[0mfindAll\u001b[0m\u001b[1;33m(\u001b[0m\u001b[1;34m\"a\"\u001b[0m\u001b[1;33m,\u001b[0m\u001b[0mattrs\u001b[0m\u001b[1;33m=\u001b[0m\u001b[1;33m{\u001b[0m\u001b[1;34m'class'\u001b[0m\u001b[1;33m:\u001b[0m \u001b[1;34m\"vereinprofil_tooltip\"\u001b[0m\u001b[1;33m}\u001b[0m\u001b[1;33m)\u001b[0m\u001b[1;33m]\u001b[0m\u001b[1;33m)\u001b[0m\u001b[1;33m\u001b[0m\u001b[1;33m\u001b[0m\u001b[0m\n",
      "\u001b[1;31mIndexError\u001b[0m: list index out of range"
     ]
    }
   ],
   "source": [
    "URL = \"https://www.transfermarkt.com/laliga/startseite/wettbewerb/ES1/plus/?saison_id=2020\"\n",
    "headers = {\"User-Agent\":\"Mozilla/5.0\"}\n",
    "page = requests.get(URL, headers= headers)\n",
    "soup = BeautifulSoup(page.content, \"html.parser\")\n",
    "\n",
    "new_table = pd.DataFrame(index=[0]) \n",
    "df= pd.DataFrame(index=[0]) \n",
    "\n",
    "rows = 0\n",
    "soup = soup.findAll(\"table\")[20]\n",
    "set([search.get(\"href\") for search in soup.findAll(\"a\",attrs={'class': \"vereinprofil_tooltip\"})])"
   ]
  },
  {
   "cell_type": "code",
   "execution_count": 13,
   "metadata": {},
   "outputs": [
    {
     "data": {
      "text/plain": [
       "{'/athletic-bilbao/spielplan/verein/621/saison_id/2021',\n",
       " '/atletico-madrid/spielplan/verein/13/saison_id/2021',\n",
       " '/ca-osasuna/spielplan/verein/331/saison_id/2021',\n",
       " '/celta-vigo/spielplan/verein/940/saison_id/2021',\n",
       " '/deportivo-alaves/spielplan/verein/1108/saison_id/2021',\n",
       " '/espanyol-barcelona/spielplan/verein/714/saison_id/2021',\n",
       " '/fc-barcelona/spielplan/verein/131/saison_id/2021',\n",
       " '/fc-cadiz/spielplan/verein/2687/saison_id/2021',\n",
       " '/fc-elche/spielplan/verein/1531/saison_id/2021',\n",
       " '/fc-getafe/spielplan/verein/3709/saison_id/2021',\n",
       " '/fc-granada/spielplan/verein/16795/saison_id/2021',\n",
       " '/fc-sevilla/spielplan/verein/368/saison_id/2021',\n",
       " '/fc-valencia/spielplan/verein/1049/saison_id/2021',\n",
       " '/fc-villarreal/spielplan/verein/1050/saison_id/2021',\n",
       " '/rayo-vallecano/spielplan/verein/367/saison_id/2021',\n",
       " '/rcd-mallorca/spielplan/verein/237/saison_id/2021',\n",
       " '/real-betis-sevilla/spielplan/verein/150/saison_id/2021',\n",
       " '/real-madrid/spielplan/verein/418/saison_id/2021',\n",
       " '/real-sociedad-san-sebastian/spielplan/verein/681/saison_id/2021',\n",
       " '/ud-levante/spielplan/verein/3368/saison_id/2021'}"
      ]
     },
     "execution_count": 13,
     "metadata": {},
     "output_type": "execute_result"
    }
   ],
   "source": [
    "set([i.get(\"href\") for i in soup.findAll(\"a\",attrs={'class': \"vereinprofil_tooltip\"})])"
   ]
  },
  {
   "cell_type": "code",
   "execution_count": 39,
   "metadata": {},
   "outputs": [],
   "source": [
    "a = soup.find(class_ = \"tbody\")\n"
   ]
  },
  {
   "cell_type": "code",
   "execution_count": 55,
   "metadata": {},
   "outputs": [
    {
     "data": {
      "text/plain": [
       "[<a class=\"vereinprofil_tooltip\" href=\"/fc-getafe/spielplan/verein/3709/saison_id/2021\" id=\"3709\"><img alt=\"Getafe CF\" class=\"tiny_wappen\" src=\"https://tmssl.akamaized.net/images/wappen/tiny/3709.png?lm=1408655116\" title=\" \"/></a>,\n",
       " <a class=\"vereinprofil_tooltip\" href=\"/fc-getafe/spielplan/verein/3709/saison_id/2021\" id=\"3709\">Getafe</a>]"
      ]
     },
     "execution_count": 55,
     "metadata": {},
     "output_type": "execute_result"
    }
   ],
   "source": [
    "bus"
   ]
  },
  {
   "cell_type": "code",
   "execution_count": 42,
   "metadata": {},
   "outputs": [],
   "source": [
    "\n",
    "a = soup.findAll('table')"
   ]
  },
  {
   "cell_type": "code",
   "execution_count": 47,
   "metadata": {},
   "outputs": [
    {
     "data": {
      "text/plain": [
       "<table>\n",
       "<thead>\n",
       "<tr>\n",
       "<th class=\"rechts\">#</th>\n",
       "<th colspan=\"2\">club</th>\n",
       "<th class=\"zentriert\">Matches</th>\n",
       "<th class=\"zentriert\">+/-</th>\n",
       "<th class=\"zentriert\">Pts</th>\n",
       "</tr>\n",
       "</thead>\n",
       "<tbody>\n",
       "<tr>\n",
       "<td class=\"rechts hauptlink nowrap\" style=\"background-color:#afd179\">1<span class=\"icons_sprite green-arrow-ten\" title=\"previous week 3.place\"> </span></td>\n",
       "<td class=\"zentriert no-border-rechts\"><a class=\"vereinprofil_tooltip\" href=\"/real-sociedad-san-sebastian/spielplan/verein/681/saison_id/2021\" id=\"681\"><img alt=\"Real Sociedad\" class=\"tiny_wappen\" src=\"https://tmssl.akamaized.net/images/wappen/tiny/681.png?lm=1614795530\" title=\" \"/></a></td>\n",
       "<td class=\"no-border-links hauptlink\">\n",
       "<a class=\"vereinprofil_tooltip\" href=\"/real-sociedad-san-sebastian/spielplan/verein/681/saison_id/2021\" id=\"681\">Real Sociedad</a> </td>\n",
       "<td class=\"zentriert\">9</td>\n",
       "<td class=\"zentriert\">5</td>\n",
       "<td class=\"zentriert\">20</td>\n",
       "</tr>\n",
       "<tr>\n",
       "<td class=\"rechts hauptlink nowrap\" style=\"background-color:#c3dc9a\">2<span class=\"icons_sprite red-arrow-ten\" title=\"previous week 1.place\"> </span></td>\n",
       "<td class=\"zentriert no-border-rechts\"><a class=\"vereinprofil_tooltip\" href=\"/real-madrid/spielplan/verein/418/saison_id/2021\" id=\"418\"><img alt=\"Real Madrid\" class=\"tiny_wappen\" src=\"https://tmssl.akamaized.net/images/wappen/tiny/418.png?lm=1580722449\" title=\" \"/></a></td>\n",
       "<td class=\"no-border-links hauptlink\">\n",
       "<a class=\"vereinprofil_tooltip\" href=\"/real-madrid/spielplan/verein/418/saison_id/2021\" id=\"418\">Real Madrid</a> </td>\n",
       "<td class=\"zentriert\">8</td>\n",
       "<td class=\"zentriert\">12</td>\n",
       "<td class=\"zentriert\">17</td>\n",
       "</tr>\n",
       "<tr>\n",
       "<td class=\"rechts hauptlink nowrap\" style=\"background-color:#c3dc9a\">3<span class=\"icons_sprite green-arrow-ten\" title=\"previous week 4.place\"> </span></td>\n",
       "<td class=\"zentriert no-border-rechts\"><a class=\"vereinprofil_tooltip\" href=\"/fc-sevilla/spielplan/verein/368/saison_id/2021\" id=\"368\"><img alt=\"Sevilla FC\" class=\"tiny_wappen\" src=\"https://tmssl.akamaized.net/images/wappen/tiny/368.png?lm=1408655455\" title=\" \"/></a></td>\n",
       "<td class=\"no-border-links hauptlink\">\n",
       "<a class=\"vereinprofil_tooltip\" href=\"/fc-sevilla/spielplan/verein/368/saison_id/2021\" id=\"368\">Sevilla FC</a> </td>\n",
       "<td class=\"zentriert\">8</td>\n",
       "<td class=\"zentriert\">8</td>\n",
       "<td class=\"zentriert\">17</td>\n",
       "</tr>\n",
       "<tr>\n",
       "<td class=\"rechts hauptlink nowrap\" style=\"background-color:#c3dc9a\">4<span class=\"icons_sprite red-arrow-ten\" title=\"previous week 2.place\"> </span></td>\n",
       "<td class=\"zentriert no-border-rechts\"><a class=\"vereinprofil_tooltip\" href=\"/atletico-madrid/spielplan/verein/13/saison_id/2021\" id=\"13\"><img alt=\"Atlético de Madrid\" class=\"tiny_wappen\" src=\"https://tmssl.akamaized.net/images/wappen/tiny/13.png?lm=1519120744\" title=\" \"/></a></td>\n",
       "<td class=\"no-border-links hauptlink\">\n",
       "<a class=\"vereinprofil_tooltip\" href=\"/atletico-madrid/spielplan/verein/13/saison_id/2021\" id=\"13\">Atlético Madrid</a> <a href=\"#\"><img alt=\"Spanish Champion 20/21\" class=\"tabelle-erfolg\" src=\"https://tmssl.akamaized.net/images/erfolge/mini/11.png?lm=1520606997\" title=\"Spanish Champion 20/21\"/></a> </td>\n",
       "<td class=\"zentriert\">8</td>\n",
       "<td class=\"zentriert\">5</td>\n",
       "<td class=\"zentriert\">17</td>\n",
       "</tr>\n",
       "<tr>\n",
       "<td class=\"rechts hauptlink nowrap\" style=\"background-color:#bdd9ef\">5<span class=\"icons_sprite grey-block-ten\" title=\"previous week 5.place\"> </span></td>\n",
       "<td class=\"zentriert no-border-rechts\"><a class=\"vereinprofil_tooltip\" href=\"/ca-osasuna/spielplan/verein/331/saison_id/2021\" id=\"331\"><img alt=\"CA Osasuna\" class=\"tiny_wappen\" src=\"https://tmssl.akamaized.net/images/wappen/tiny/331.png?lm=1406739464\" title=\" \"/></a></td>\n",
       "<td class=\"no-border-links hauptlink\">\n",
       "<a class=\"vereinprofil_tooltip\" href=\"/ca-osasuna/spielplan/verein/331/saison_id/2021\" id=\"331\">CA Osasuna</a> </td>\n",
       "<td class=\"zentriert\">9</td>\n",
       "<td class=\"zentriert\">1</td>\n",
       "<td class=\"zentriert\">17</td>\n",
       "</tr>\n",
       "<tr>\n",
       "<td class=\"rechts hauptlink nowrap\" style=\"background-color:#bdd9ef\">6<span class=\"icons_sprite grey-block-ten\" title=\"previous week 6.place\"> </span></td>\n",
       "<td class=\"zentriert no-border-rechts\"><a class=\"vereinprofil_tooltip\" href=\"/rayo-vallecano/spielplan/verein/367/saison_id/2021\" id=\"367\"><img alt=\"Rayo Vallecano\" class=\"tiny_wappen\" src=\"https://tmssl.akamaized.net/images/wappen/tiny/367.png?lm=1408654926\" title=\" \"/></a></td>\n",
       "<td class=\"no-border-links hauptlink\">\n",
       "<a class=\"vereinprofil_tooltip\" href=\"/rayo-vallecano/spielplan/verein/367/saison_id/2021\" id=\"367\">Rayo Vallecano</a> <span class=\"icons_sprite icon-aufsteiger\" title=\"Promoted to 1st league 20/21\"> </span> </td>\n",
       "<td class=\"zentriert\">9</td>\n",
       "<td class=\"zentriert\">6</td>\n",
       "<td class=\"zentriert\">16</td>\n",
       "</tr>\n",
       "<tr>\n",
       "<td class=\"rechts hauptlink nowrap\" style=\"background-color:#fee492\">7<span class=\"icons_sprite green-arrow-ten\" title=\"previous week 9.place\"> </span></td>\n",
       "<td class=\"zentriert no-border-rechts\"><a class=\"vereinprofil_tooltip\" href=\"/fc-barcelona/spielplan/verein/131/saison_id/2021\" id=\"131\"><img alt=\"FC Barcelona\" class=\"tiny_wappen\" src=\"https://tmssl.akamaized.net/images/wappen/tiny/131.png?lm=1406739548\" title=\" \"/></a></td>\n",
       "<td class=\"no-border-links hauptlink\">\n",
       "<a class=\"vereinprofil_tooltip\" href=\"/fc-barcelona/spielplan/verein/131/saison_id/2021\" id=\"131\">Barcelona</a> <a href=\"#\"><img alt=\"Spanish Cup winner  20/21\" class=\"tabelle-erfolg\" src=\"https://tmssl.akamaized.net/images/erfolge/mini/94.png?lm=1520606999\" title=\"Spanish Cup winner  20/21\"/></a> </td>\n",
       "<td class=\"zentriert\">8</td>\n",
       "<td class=\"zentriert\">6</td>\n",
       "<td class=\"zentriert\">15</td>\n",
       "</tr>\n",
       "<tr>\n",
       "<td class=\"rechts hauptlink nowrap\" style=\"background-color:\">8<span class=\"icons_sprite green-arrow-ten\" title=\"previous week 10.place\"> </span></td>\n",
       "<td class=\"zentriert no-border-rechts\"><a class=\"vereinprofil_tooltip\" href=\"/real-betis-sevilla/spielplan/verein/150/saison_id/2021\" id=\"150\"><img alt=\"Real Betis Balompié\" class=\"tiny_wappen\" src=\"https://tmssl.akamaized.net/images/wappen/tiny/150.png?lm=1407484550\" title=\" \"/></a></td>\n",
       "<td class=\"no-border-links hauptlink\">\n",
       "<a class=\"vereinprofil_tooltip\" href=\"/real-betis-sevilla/spielplan/verein/150/saison_id/2021\" id=\"150\">Real Betis</a> </td>\n",
       "<td class=\"zentriert\">9</td>\n",
       "<td class=\"zentriert\">3</td>\n",
       "<td class=\"zentriert\">15</td>\n",
       "</tr>\n",
       "<tr>\n",
       "<td class=\"rechts hauptlink nowrap\" style=\"background-color:\">9<span class=\"icons_sprite red-arrow-ten\" title=\"previous week 7.place\"> </span></td>\n",
       "<td class=\"zentriert no-border-rechts\"><a class=\"vereinprofil_tooltip\" href=\"/athletic-bilbao/spielplan/verein/621/saison_id/2021\" id=\"621\"><img alt=\"Athletic Bilbao\" class=\"tiny_wappen\" src=\"https://tmssl.akamaized.net/images/wappen/tiny/621.png?lm=1565768743\" title=\" \"/></a></td>\n",
       "<td class=\"no-border-links hauptlink\">\n",
       "<a class=\"vereinprofil_tooltip\" href=\"/athletic-bilbao/spielplan/verein/621/saison_id/2021\" id=\"621\">Athletic</a> </td>\n",
       "<td class=\"zentriert\">8</td>\n",
       "<td class=\"zentriert\">3</td>\n",
       "<td class=\"zentriert\">13</td>\n",
       "</tr>\n",
       "<tr>\n",
       "<td class=\"rechts hauptlink nowrap\" style=\"background-color:\">10<span class=\"icons_sprite red-arrow-ten\" title=\"previous week 8.place\"> </span></td>\n",
       "<td class=\"zentriert no-border-rechts\"><a class=\"vereinprofil_tooltip\" href=\"/fc-valencia/spielplan/verein/1049/saison_id/2021\" id=\"1049\"><img alt=\"Valencia CF\" class=\"tiny_wappen\" src=\"https://tmssl.akamaized.net/images/wappen/tiny/1049.png?lm=1406966320\" title=\" \"/></a></td>\n",
       "<td class=\"no-border-links hauptlink\">\n",
       "<a class=\"vereinprofil_tooltip\" href=\"/fc-valencia/spielplan/verein/1049/saison_id/2021\" id=\"1049\">Valencia</a> </td>\n",
       "<td class=\"zentriert\">9</td>\n",
       "<td class=\"zentriert\">2</td>\n",
       "<td class=\"zentriert\">12</td>\n",
       "</tr>\n",
       "<tr>\n",
       "<td class=\"rechts hauptlink nowrap\" style=\"background-color:\">11<span class=\"icons_sprite green-arrow-ten\" title=\"previous week 13.place\"> </span></td>\n",
       "<td class=\"zentriert no-border-rechts\"><a class=\"vereinprofil_tooltip\" href=\"/espanyol-barcelona/spielplan/verein/714/saison_id/2021\" id=\"714\"><img alt=\"RCD Espanyol Barcelona\" class=\"tiny_wappen\" src=\"https://tmssl.akamaized.net/images/wappen/tiny/714.png?lm=1406966369\" title=\" \"/></a></td>\n",
       "<td class=\"no-border-links hauptlink\">\n",
       "<a class=\"vereinprofil_tooltip\" href=\"/espanyol-barcelona/spielplan/verein/714/saison_id/2021\" id=\"714\">Espanyol</a> <span class=\"icons_sprite icon-aufsteiger\" title=\"Promoted to 1st league 20/21\"> </span> </td>\n",
       "<td class=\"zentriert\">9</td>\n",
       "<td class=\"zentriert\">0</td>\n",
       "<td class=\"zentriert\">12</td>\n",
       "</tr>\n",
       "<tr>\n",
       "<td class=\"rechts hauptlink nowrap\" style=\"background-color:\">12<span class=\"icons_sprite red-arrow-ten\" title=\"previous week 11.place\"> </span></td>\n",
       "<td class=\"zentriert no-border-rechts\"><a class=\"vereinprofil_tooltip\" href=\"/fc-villarreal/spielplan/verein/1050/saison_id/2021\" id=\"1050\"><img alt=\"Villarreal CF\" class=\"tiny_wappen\" src=\"https://tmssl.akamaized.net/images/wappen/tiny/1050.png?lm=1408655310\" title=\" \"/></a></td>\n",
       "<td class=\"no-border-links hauptlink\">\n",
       "<a class=\"vereinprofil_tooltip\" href=\"/fc-villarreal/spielplan/verein/1050/saison_id/2021\" id=\"1050\">Villarreal</a> <a href=\"#\"><img alt=\"Europa League Winner 20/21\" class=\"tabelle-erfolg\" src=\"https://tmssl.akamaized.net/images/erfolge/mini/264.png?lm=1520606999\" title=\"Europa League Winner 20/21\"/></a> </td>\n",
       "<td class=\"zentriert\">8</td>\n",
       "<td class=\"zentriert\">4</td>\n",
       "<td class=\"zentriert\">11</td>\n",
       "</tr>\n",
       "<tr>\n",
       "<td class=\"rechts hauptlink nowrap\" style=\"background-color:\">13<span class=\"icons_sprite red-arrow-ten\" title=\"previous week 12.place\"> </span></td>\n",
       "<td class=\"zentriert no-border-rechts\"><a class=\"vereinprofil_tooltip\" href=\"/rcd-mallorca/spielplan/verein/237/saison_id/2021\" id=\"237\"><img alt=\"RCD Mallorca\" class=\"tiny_wappen\" src=\"https://tmssl.akamaized.net/images/wappen/tiny/237.png?lm=1407484750\" title=\" \"/></a></td>\n",
       "<td class=\"no-border-links hauptlink\">\n",
       "<a class=\"vereinprofil_tooltip\" href=\"/rcd-mallorca/spielplan/verein/237/saison_id/2021\" id=\"237\">RCD Mallorca</a> <span class=\"icons_sprite icon-aufsteiger\" title=\"Promoted to 1st league 20/21\"> </span> </td>\n",
       "<td class=\"zentriert\">9</td>\n",
       "<td class=\"zentriert\">-6</td>\n",
       "<td class=\"zentriert\">11</td>\n",
       "</tr>\n",
       "<tr>\n",
       "<td class=\"rechts hauptlink nowrap\" style=\"background-color:\">14<span class=\"icons_sprite grey-block-ten\" title=\"previous week 14.place\"> </span></td>\n",
       "<td class=\"zentriert no-border-rechts\"><a class=\"vereinprofil_tooltip\" href=\"/fc-elche/spielplan/verein/1531/saison_id/2021\" id=\"1531\"><img alt=\"Elche CF\" class=\"tiny_wappen\" src=\"https://tmssl.akamaized.net/images/wappen/tiny/1531.png?lm=1421955260\" title=\" \"/></a></td>\n",
       "<td class=\"no-border-links hauptlink\">\n",
       "<a class=\"vereinprofil_tooltip\" href=\"/fc-elche/spielplan/verein/1531/saison_id/2021\" id=\"1531\">Elche CF</a> </td>\n",
       "<td class=\"zentriert\">9</td>\n",
       "<td class=\"zentriert\">-4</td>\n",
       "<td class=\"zentriert\">9</td>\n",
       "</tr>\n",
       "<tr>\n",
       "<td class=\"rechts hauptlink nowrap\" style=\"background-color:\">15<span class=\"icons_sprite grey-block-ten\" title=\"previous week 15.place\"> </span></td>\n",
       "<td class=\"zentriert no-border-rechts\"><a class=\"vereinprofil_tooltip\" href=\"/fc-cadiz/spielplan/verein/2687/saison_id/2021\" id=\"2687\"><img alt=\"Cádiz CF\" class=\"tiny_wappen\" src=\"https://tmssl.akamaized.net/images/wappen/tiny/2687.png?lm=1417193371\" title=\" \"/></a></td>\n",
       "<td class=\"no-border-links hauptlink\">\n",
       "<a class=\"vereinprofil_tooltip\" href=\"/fc-cadiz/spielplan/verein/2687/saison_id/2021\" id=\"2687\">Cádiz CF</a> </td>\n",
       "<td class=\"zentriert\">9</td>\n",
       "<td class=\"zentriert\">-6</td>\n",
       "<td class=\"zentriert\">7</td>\n",
       "</tr>\n",
       "<tr>\n",
       "<td class=\"rechts hauptlink nowrap\" style=\"background-color:\">16<span class=\"icons_sprite grey-block-ten\" title=\"previous week 16.place\"> </span></td>\n",
       "<td class=\"zentriert no-border-rechts\"><a class=\"vereinprofil_tooltip\" href=\"/celta-vigo/spielplan/verein/940/saison_id/2021\" id=\"940\"><img alt=\"Celta de Vigo\" class=\"tiny_wappen\" src=\"https://tmssl.akamaized.net/images/wappen/tiny/940.png?lm=1406966406\" title=\" \"/></a></td>\n",
       "<td class=\"no-border-links hauptlink\">\n",
       "<a class=\"vereinprofil_tooltip\" href=\"/celta-vigo/spielplan/verein/940/saison_id/2021\" id=\"940\">Celta de Vigo</a> </td>\n",
       "<td class=\"zentriert\">9</td>\n",
       "<td class=\"zentriert\">-5</td>\n",
       "<td class=\"zentriert\">7</td>\n",
       "</tr>\n",
       "<tr>\n",
       "<td class=\"rechts hauptlink nowrap\" style=\"background-color:\">17<span class=\"icons_sprite grey-block-ten\" title=\"previous week 17.place\"> </span></td>\n",
       "<td class=\"zentriert no-border-rechts\"><a class=\"vereinprofil_tooltip\" href=\"/fc-granada/spielplan/verein/16795/saison_id/2021\" id=\"16795\"><img alt=\"Granada CF\" class=\"tiny_wappen\" src=\"https://tmssl.akamaized.net/images/wappen/tiny/16795.png?lm=1620472393\" title=\" \"/></a></td>\n",
       "<td class=\"no-border-links hauptlink\">\n",
       "<a class=\"vereinprofil_tooltip\" href=\"/fc-granada/spielplan/verein/16795/saison_id/2021\" id=\"16795\">Granada CF</a> </td>\n",
       "<td class=\"zentriert\">8</td>\n",
       "<td class=\"zentriert\">-6</td>\n",
       "<td class=\"zentriert\">6</td>\n",
       "</tr>\n",
       "<tr>\n",
       "<td class=\"rechts hauptlink nowrap\" style=\"background-color:#f8a7a3\">18<span class=\"icons_sprite grey-block-ten\" title=\"previous week 18.place\"> </span></td>\n",
       "<td class=\"zentriert no-border-rechts\"><a class=\"vereinprofil_tooltip\" href=\"/ud-levante/spielplan/verein/3368/saison_id/2021\" id=\"3368\"><img alt=\"Levante UD\" class=\"tiny_wappen\" src=\"https://tmssl.akamaized.net/images/wappen/tiny/3368.png?lm=1408655062\" title=\" \"/></a></td>\n",
       "<td class=\"no-border-links hauptlink\">\n",
       "<a class=\"vereinprofil_tooltip\" href=\"/ud-levante/spielplan/verein/3368/saison_id/2021\" id=\"3368\">Levante</a> </td>\n",
       "<td class=\"zentriert\">9</td>\n",
       "<td class=\"zentriert\">-7</td>\n",
       "<td class=\"zentriert\">5</td>\n",
       "</tr>\n",
       "<tr>\n",
       "<td class=\"rechts hauptlink nowrap\" style=\"background-color:#f8a7a3\">19<span class=\"icons_sprite grey-block-ten\" title=\"previous week 19.place\"> </span></td>\n",
       "<td class=\"zentriert no-border-rechts\"><a class=\"vereinprofil_tooltip\" href=\"/deportivo-alaves/spielplan/verein/1108/saison_id/2021\" id=\"1108\"><img alt=\"Deportivo Alavés\" class=\"tiny_wappen\" src=\"https://tmssl.akamaized.net/images/wappen/tiny/1108.png?lm=1596131395\" title=\" \"/></a></td>\n",
       "<td class=\"no-border-links hauptlink\">\n",
       "<a class=\"vereinprofil_tooltip\" href=\"/deportivo-alaves/spielplan/verein/1108/saison_id/2021\" id=\"1108\">Alavés</a> </td>\n",
       "<td class=\"zentriert\">8</td>\n",
       "<td class=\"zentriert\">-11</td>\n",
       "<td class=\"zentriert\">3</td>\n",
       "</tr>\n",
       "<tr>\n",
       "<td class=\"rechts hauptlink nowrap\" style=\"background-color:#f8a7a3\">20<span class=\"icons_sprite grey-block-ten\" title=\"previous week 20.place\"> </span></td>\n",
       "<td class=\"zentriert no-border-rechts\"><a class=\"vereinprofil_tooltip\" href=\"/fc-getafe/spielplan/verein/3709/saison_id/2021\" id=\"3709\"><img alt=\"Getafe CF\" class=\"tiny_wappen\" src=\"https://tmssl.akamaized.net/images/wappen/tiny/3709.png?lm=1408655116\" title=\" \"/></a></td>\n",
       "<td class=\"no-border-links hauptlink\">\n",
       "<a class=\"vereinprofil_tooltip\" href=\"/fc-getafe/spielplan/verein/3709/saison_id/2021\" id=\"3709\">Getafe</a> </td>\n",
       "<td class=\"zentriert\">9</td>\n",
       "<td class=\"zentriert\">-10</td>\n",
       "<td class=\"zentriert\">2</td>\n",
       "</tr>\n",
       "</tbody>\n",
       "</table>"
      ]
     },
     "execution_count": 47,
     "metadata": {},
     "output_type": "execute_result"
    }
   ],
   "source": [
    "a[20]"
   ]
  },
  {
   "cell_type": "code",
   "execution_count": null,
   "metadata": {},
   "outputs": [],
   "source": []
  }
 ],
 "metadata": {
  "interpreter": {
   "hash": "156f6d3d494a5ee17b4afda918c61c9145bd62f7007afc7f7b31398633f9b8da"
  },
  "kernelspec": {
   "display_name": "Python 3.7.8 64-bit",
   "name": "python3"
  },
  "language_info": {
   "codemirror_mode": {
    "name": "ipython",
    "version": 3
   },
   "file_extension": ".py",
   "mimetype": "text/x-python",
   "name": "python",
   "nbconvert_exporter": "python",
   "pygments_lexer": "ipython3",
   "version": "3.7.8"
  },
  "orig_nbformat": 4
 },
 "nbformat": 4,
 "nbformat_minor": 2
}
